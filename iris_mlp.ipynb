{
  "nbformat": 4,
  "nbformat_minor": 0,
  "metadata": {
    "kernelspec": {
      "display_name": "Python 3",
      "language": "python",
      "name": "python3"
    },
    "language_info": {
      "codemirror_mode": {
        "name": "ipython",
        "version": 3
      },
      "file_extension": ".py",
      "mimetype": "text/x-python",
      "name": "python",
      "nbconvert_exporter": "python",
      "pygments_lexer": "ipython3",
      "version": "3.7.7"
    },
    "colab": {
      "name": "iris_mlp.ipynb",
      "provenance": [],
      "include_colab_link": true
    }
  },
  "cells": [
    {
      "cell_type": "markdown",
      "metadata": {
        "id": "view-in-github",
        "colab_type": "text"
      },
      "source": [
        "<a href=\"https://colab.research.google.com/github/danilinekamgue/python/blob/master/iris_mlp.ipynb\" target=\"_parent\"><img src=\"https://colab.research.google.com/assets/colab-badge.svg\" alt=\"Open In Colab\"/></a>"
      ]
    },
    {
      "cell_type": "code",
      "metadata": {
        "id": "NqywFzS7vdMk"
      },
      "source": [
        "import numpy as np\n",
        "from sklearn.datasets import load_iris\n",
        "from sklearn.neural_network import MLPClassifier\n",
        "from sklearn.model_selection import train_test_split\n",
        "from sklearn.metrics import confusion_matrix"
      ],
      "execution_count": null,
      "outputs": []
    },
    {
      "cell_type": "code",
      "metadata": {
        "id": "bUN85-BBvdMy"
      },
      "source": [
        "data, target = load_iris(return_X_y=True)\n",
        "data.shape"
      ],
      "execution_count": null,
      "outputs": []
    },
    {
      "cell_type": "markdown",
      "metadata": {
        "id": "Rch4GG9bvdMz"
      },
      "source": [
        "### Start Model Selection"
      ]
    },
    {
      "cell_type": "markdown",
      "metadata": {
        "id": "HWoR5htsvdMz"
      },
      "source": [
        "just one model for simplicity, but you can add more"
      ]
    },
    {
      "cell_type": "code",
      "metadata": {
        "id": "e56W2xMwvdMz"
      },
      "source": [
        "mlp = MLPClassifier((100,)) # mlp with one layer, 100 units"
      ],
      "execution_count": null,
      "outputs": []
    },
    {
      "cell_type": "code",
      "metadata": {
        "id": "10hJCLNPvdM0"
      },
      "source": [
        "# split dataset in train, validation and test\n",
        "x_train, x_test, y_train, y_test = train_test_split(\n",
        "    data, target, train_size=0.7, shuffle=True, stratify=target)\n",
        "\n",
        "x_train, x_val, y_train, y_val = train_test_split(\n",
        "    x_train, y_train, train_size=0.7, shuffle=True, stratify=y_train)\n",
        "print(y_train.shape)\n",
        "print(y_val.shape)\n",
        "print(y_test.shape)"
      ],
      "execution_count": null,
      "outputs": []
    },
    {
      "cell_type": "code",
      "metadata": {
        "id": "HeUitBKuvdM0"
      },
      "source": [
        "mlp.fit(x_train, y_train) # train on training set"
      ],
      "execution_count": null,
      "outputs": []
    },
    {
      "cell_type": "code",
      "metadata": {
        "id": "e7HjD0YWvdM0"
      },
      "source": [
        "mlp.score(x_val, y_val) # average accuracy on validation set"
      ],
      "execution_count": null,
      "outputs": []
    },
    {
      "cell_type": "markdown",
      "metadata": {
        "id": "2VafwGpSvdM2"
      },
      "source": [
        "### Start Model Assessment"
      ]
    },
    {
      "cell_type": "code",
      "metadata": {
        "id": "GAuEp05TvdM2"
      },
      "source": [
        "# train on both training and validation set\n",
        "mlp.fit(\n",
        "    np.concatenate((x_train, x_val), axis=0), \n",
        "    np.concatenate((y_train, y_val), axis=0))"
      ],
      "execution_count": null,
      "outputs": []
    },
    {
      "cell_type": "code",
      "metadata": {
        "id": "F_2ysM5bvdM9"
      },
      "source": [
        "mlp.score(x_test, y_test) # average accuracy on test set"
      ],
      "execution_count": null,
      "outputs": []
    },
    {
      "cell_type": "code",
      "metadata": {
        "id": "TKMLVeZ-vdM9"
      },
      "source": [
        "predictions = mlp.predict(x_test) # model classification on test set"
      ],
      "execution_count": null,
      "outputs": []
    },
    {
      "cell_type": "code",
      "metadata": {
        "id": "-EVIr7OLvdM-"
      },
      "source": [
        "confusion_matrix(y_test, predictions) # confusion matrix"
      ],
      "execution_count": null,
      "outputs": []
    }
  ]
}