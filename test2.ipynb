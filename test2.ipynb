{
  "nbformat": 4,
  "nbformat_minor": 0,
  "metadata": {
    "colab": {
      "name": "test2.ipynb",
      "provenance": [],
      "authorship_tag": "ABX9TyNCsHIeIAjcJ7PCL7gI1e5j",
      "include_colab_link": true
    },
    "kernelspec": {
      "name": "python3",
      "display_name": "Python 3"
    }
  },
  "cells": [
    {
      "cell_type": "markdown",
      "metadata": {
        "id": "view-in-github",
        "colab_type": "text"
      },
      "source": [
        "<a href=\"https://colab.research.google.com/github/danilinekamgue/python/blob/master/test2.ipynb\" target=\"_parent\"><img src=\"https://colab.research.google.com/assets/colab-badge.svg\" alt=\"Open In Colab\"/></a>"
      ]
    },
    {
      "cell_type": "code",
      "metadata": {
        "id": "jRuimMBcLwyo",
        "outputId": "bd18dc8a-8ec6-4335-cc71-a8294495c8f4",
        "colab": {
          "base_uri": "https://localhost:8080/",
          "height": 84
        }
      },
      "source": [
        "list3=[1,2,3]\n",
        "list4=['a','b','c']\n",
        "list3.append(list4)\n",
        "print(list3)\n",
        "\n",
        "mylist=[1,2,3,4,5]\n",
        "list1=[1,2,3,4,5]\n",
        "list1.append(6)\n",
        "list2=['a','b','c']\n",
        "list1.extend(list2)\n",
        "print(list1)\n",
        "print(list2)\n",
        "\n",
        "stringa = \" danili ne \"\n",
        "stringa.strip(\" \")\n",
        "print(stringa)"
      ],
      "execution_count": 16,
      "outputs": [
        {
          "output_type": "stream",
          "text": [
            "[1, 2, 3, ['a', 'b', 'c']]\n",
            "[1, 2, 3, 4, 5, 6, 'a', 'b', 'c']\n",
            "['a', 'b', 'c']\n",
            " danili ne \n"
          ],
          "name": "stdout"
        }
      ]
    }
  ]
}