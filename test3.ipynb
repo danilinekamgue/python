{
  "nbformat": 4,
  "nbformat_minor": 0,
  "metadata": {
    "colab": {
      "name": "test3.ipynb",
      "provenance": [],
      "authorship_tag": "ABX9TyPP48RPo/R966HEe+wlAEaB",
      "include_colab_link": true
    },
    "kernelspec": {
      "name": "python3",
      "display_name": "Python 3"
    }
  },
  "cells": [
    {
      "cell_type": "markdown",
      "metadata": {
        "id": "view-in-github",
        "colab_type": "text"
      },
      "source": [
        "<a href=\"https://colab.research.google.com/github/danilinekamgue/python/blob/master/test3.ipynb\" target=\"_parent\"><img src=\"https://colab.research.google.com/assets/colab-badge.svg\" alt=\"Open In Colab\"/></a>"
      ]
    },
    {
      "cell_type": "code",
      "metadata": {
        "id": "jRuimMBcLwyo",
        "outputId": "4337184e-91ad-4e37-a398-e85883042206",
        "colab": {
          "base_uri": "https://localhost:8080/",
          "height": 319
        }
      },
      "source": [
        "mylist = ['a', 'b', 'c', 'd', 'e', 'f', 'g']\n",
        "val='h' in mylist\n",
        "print(val)\n",
        "val='a' in mylist\n",
        "print(val)\n",
        "print(\"init\")\n",
        "mylist=['a','b','c','d']\n",
        "i=0\n",
        "while (i < len(mylist)):\n",
        "  print(mylist[i])\n",
        "  i+=1\n",
        "print(\"end while\")\n",
        "mylist=['a','b','c','d']\n",
        "for i in range(len(mylist)):\n",
        "   print(mylist[i])\n",
        "print(\"endfor range\")\n",
        "mylist=['a','b','c','d']\n",
        "for elem in mylist:\n",
        "  print(elem)\n",
        "print(\"endforIn\")\n",
        "\n"
      ],
      "execution_count": 23,
      "outputs": [
        {
          "output_type": "stream",
          "text": [
            "False\n",
            "True\n",
            "init\n",
            "a\n",
            "b\n",
            "c\n",
            "d\n",
            "end while\n",
            "a\n",
            "b\n",
            "c\n",
            "d\n",
            "endfor range\n",
            "a\n",
            "b\n",
            "c\n",
            "d\n",
            "endforIn\n"
          ],
          "name": "stdout"
        }
      ]
    }
  ]
}