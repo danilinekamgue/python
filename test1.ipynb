x=1
def myfunction(a,b,c):
  global x
  sum=a+b+c+x
  difference=a-b-c-x
  return sum, difference
myfunction(2,4,1)
